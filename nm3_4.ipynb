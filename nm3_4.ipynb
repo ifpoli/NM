{
 "cells": [
  {
   "cell_type": "code",
   "execution_count": 3,
   "metadata": {},
   "outputs": [
    {
     "name": "stdout",
     "output_type": "stream",
     "text": [
      "\n",
      "Лабораторная работа 3.4\n",
      "Вариант 2:\n",
      "X* = 1.0\n",
      "i:         0        1        2         3        4\n",
      "Xi:      -1.0      0.0      1.0       2.0      3.0\n",
      "Yi:      -0.5      0.0      0.5     0.86603    1.0\n",
      "\n",
      "Первая производная = 0.433015\n",
      "Вторая производня = -0.13397\n"
     ]
    }
   ],
   "source": [
    "target = '''X* = 1.0\n",
    "i:         0        1        2         3        4\n",
    "Xi:      -1.0      0.0      1.0       2.0      3.0\n",
    "Yi:      -0.5      0.0      0.5     0.86603    1.0\n",
    "'''\n",
    "\n",
    "\n",
    "def find_interval(x_i, x0):\n",
    "    for i in range(len(x_i) - 1):\n",
    "        if x_i[i] <= x0 <= x_i[i + 1]:\n",
    "            return i\n",
    "\n",
    "\n",
    "def first_derivative(x_i, y_i, x0):\n",
    "    i = find_interval(x_i, x0)\n",
    "    left = (y_i[i + 1] - y_i[i]) / (x_i[i + 1] - x_i[i])\n",
    "    right = ((y_i[i + 2] - y_i[i + 1]) / (x_i[i + 2] - x_i[i + 1]) - left) / \\\n",
    "            (x_i[i + 2] - x_i[i]) * (2 * x0 - x_i[i] - x_i[i + 1])\n",
    "    return left + right\n",
    "\n",
    "\n",
    "def second_derivative(x_i, y_i, x0):\n",
    "    i = find_interval(x_i, x0)\n",
    "    left = (y_i[i + 1] - y_i[i]) / (x_i[i + 1] - x_i[i])\n",
    "    right = 2 * ((y_i[i + 2] - y_i[i + 1]) / (x_i[i + 2] - x_i[i + 1]) - left) / \\\n",
    "            (x_i[i + 2] - x_i[i])\n",
    "    return right\n",
    "\n",
    "\n",
    "if __name__ == '__main__':\n",
    "    print('\\nЛабораторная работа 3.4\\nВариант 2:')\n",
    "    print(target)\n",
    "    x0 = 1.0\n",
    "    x_i = [-1.0, 0.0, 1.0, 2.0, 3.0]\n",
    "    y_i = [-0.5, 0.0, 0.5, 0.86603, 1.0]\n",
    "    print(f'Первая производная = {round(first_derivative(x_i, y_i, x0), 6)}')\n",
    "    print(f'Вторая производня = {round(second_derivative(x_i, y_i, x0), 6)}')"
   ]
  },
  {
   "cell_type": "code",
   "execution_count": null,
   "metadata": {},
   "outputs": [],
   "source": []
  }
 ],
 "metadata": {
  "kernelspec": {
   "display_name": "Python 3",
   "language": "python",
   "name": "python3"
  },
  "language_info": {
   "codemirror_mode": {
    "name": "ipython",
    "version": 3
   },
   "file_extension": ".py",
   "mimetype": "text/x-python",
   "name": "python",
   "nbconvert_exporter": "python",
   "pygments_lexer": "ipython3",
   "version": "3.8.5"
  }
 },
 "nbformat": 4,
 "nbformat_minor": 4
}
