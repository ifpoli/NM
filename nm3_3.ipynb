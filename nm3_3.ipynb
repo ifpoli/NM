{
 "cells": [
  {
   "cell_type": "code",
   "execution_count": 3,
   "metadata": {},
   "outputs": [
    {
     "name": "stdout",
     "output_type": "stream",
     "text": [
      "\n",
      "Лабораторная работа 3.3\n",
      "Вариант 2:\n",
      "\n",
      "i:        0        1        2       3       4       5\n",
      "Xi:     -1.0      0.0      1.0     2.0     3.0     4.0\n",
      "Yi:    0.86603    1.0    0.86603   0.5     0.0    -0.5\n",
      "\n",
      "Степень = 1\n",
      "F1(x) = 0.89232x^0 + -0.29132x^1 \n",
      "Степень = 2\n",
      "F2(x) = 0.94749x^0 + -0.04307x^1 + -0.08275x^2 \n"
     ]
    },
    {
     "data": {
      "image/png": "[encoded data removed]",
      "text/plain": [
       "<Figure size 432x288 with 1 Axes>"
      ]
     },
     "metadata": {
      "needs_background": "light"
     },
     "output_type": "display_data"
    },
    {
     "name": "stdout",
     "output_type": "stream",
     "text": [
      "Погрешность функции F1 = 0.27082\n",
      "Погрешность функции F2 = 0.01518\n"
     ]
    }
   ],
   "source": [
    "import matplotlib.pyplot as plt\n",
    "import scipy.linalg as la\n",
    "\n",
    "target = '''\n",
    "i:        0        1        2       3       4       5\n",
    "Xi:     -1.0      0.0      1.0     2.0     3.0     4.0\n",
    "Yi:    0.86603    1.0    0.86603   0.5     0.0    -0.5\n",
    "'''\n",
    "\n",
    "def func(x, values):\n",
    "    return sum([c * (x ** i) for i, c in enumerate(values)])\n",
    "\n",
    "def sse(f, y):\n",
    "    return round(sum([(f_i - y_i) ** 2 for f_i, y_i in zip(f, y)]), 5)\n",
    "\n",
    "def mls(n, x, y):\n",
    "    matrix = [[] for _ in range(n + 1)]\n",
    "    size = len(matrix)\n",
    "    for i in range(n + 1):\n",
    "        for j in range(n + 1):\n",
    "            matrix[i].append(sum([x_j ** (i + j) for x_j in x]))\n",
    "    b = [0 for _ in range(n + 1)]\n",
    "    for i in range(n + 1):\n",
    "        b[i] = sum([y_j * (x_j ** i) for x_j, y_j in zip(x, y)])\n",
    "    (P, L, U) = la.lu(matrix)\n",
    "    new_b = la.solve(matrix,b)\n",
    "    return [round(i, 5) for i in new_b]\n",
    "\n",
    "def f_printer(coefs):\n",
    "    n = len(coefs)\n",
    "    f = f'F{n - 1}(x) = '\n",
    "    for i in range(n):\n",
    "        f += f'{coefs[i]}x^{i} + '\n",
    "    f = f[:-2]\n",
    "    return f\n",
    "\n",
    "if __name__ == '__main__':\n",
    "    print('\\nЛабораторная работа 3.3\\nВариант 2:')\n",
    "    print(target)\n",
    "    x = [-1.0, 0.0, 1.0, 2.0, 3.0, 4.0]\n",
    "    y = [0.86603, 1.0, 0.86603, 0.5, 0.0, -0.5]\n",
    "    F = []\n",
    "    err = []\n",
    "    coefs = []\n",
    "\n",
    "    for degree in [1, 2]:\n",
    "        print(f'Степень = {degree}')\n",
    "        coefs.append(mls(degree, x, y))\n",
    "        print(f_printer(coefs[degree - 1]))\n",
    "        F.append([func(i, coefs[degree - 1]) for i in x])\n",
    "        err.append(sse(F[degree - 1], y))\n",
    "\n",
    "    plt.scatter(x, y, color='r')\n",
    "    plt.plot(x, F[0], color='m', label='Function')\n",
    "    plt.plot(x, F[1], color='g', label='LessSquareMethod')\n",
    "    plt.legend(loc='best')\n",
    "    plt.grid()\n",
    "    plt.savefig('3_3.png')\n",
    "    plt.show()\n",
    "\n",
    "    k = 1\n",
    "    for i in err:\n",
    "        print(f'Погрешность функции F{k} = {i}')\n",
    "        k += 1"
   ]
  },
  {
   "cell_type": "code",
   "execution_count": null,
   "metadata": {},
   "outputs": [],
   "source": []
  }
 ],
 "metadata": {
  "kernelspec": {
   "display_name": "Python 3",
   "language": "python",
   "name": "python3"
  },
  "language_info": {
   "codemirror_mode": {
    "name": "ipython",
    "version": 3
   },
   "file_extension": ".py",
   "mimetype": "text/x-python",
   "name": "python",
   "nbconvert_exporter": "python",
   "pygments_lexer": "ipython3",
   "version": "3.8.5"
  }
 },
 "nbformat": 4,
 "nbformat_minor": 4
}
